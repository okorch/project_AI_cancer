{
  "nbformat": 4,
  "nbformat_minor": 0,
  "metadata": {
    "colab": {
      "provenance": [],
      "gpuType": "T4",
      "mount_file_id": "1rctXELI0qIwE_HGcjP7bGWMFB6tVcmCt",
      "authorship_tag": "ABX9TyNx/lgYlhn1DI3PRHG+uyjw",
      "include_colab_link": true
    },
    "kernelspec": {
      "name": "python3",
      "display_name": "Python 3"
    },
    "language_info": {
      "name": "python"
    },
    "gpuClass": "standard"
  },
  "cells": [
    {
      "cell_type": "markdown",
      "metadata": {
        "id": "view-in-github",
        "colab_type": "text"
      },
      "source": [
        "<a href=\"https://colab.research.google.com/github/okorch/project_AI_cancer/blob/main/canser_train_SimpleModel_2023.ipynb\" target=\"_parent\"><img src=\"https://colab.research.google.com/assets/colab-badge.svg\" alt=\"Open In Colab\"/></a>"
      ]
    },
    {
      "cell_type": "markdown",
      "source": [
        "Импортируем необходимые модули."
      ],
      "metadata": {
        "id": "c__5GA8qFS1Q"
      }
    },
    {
      "cell_type": "code",
      "source": [
        "import pickle\n",
        "\n",
        "import torch\n",
        "import torch.nn as nn\n",
        "import torchvision\n",
        "import torch.optim as optim\n",
        "from torch.utils.data import Dataset, DataLoader\n",
        "\n",
        "from sklearn.model_selection import train_test_split\n",
        "import numpy as np\n",
        "import json"
      ],
      "metadata": {
        "id": "INNhWTPFz68j"
      },
      "execution_count": null,
      "outputs": []
    },
    {
      "cell_type": "markdown",
      "source": [
        "Загружаем данные тензоров фотографий и их лейблов из файла. Тензоры в нашем случае имеют размеры 3х64.\n"
      ],
      "metadata": {
        "id": "L0zFOXA1FbiF"
      }
    },
    {
      "cell_type": "code",
      "execution_count": null,
      "metadata": {
        "id": "RnzzLzShQSwi"
      },
      "outputs": [],
      "source": [
        "with open('/content/drive/MyDrive/X_train_new (2).pickle', 'rb') as f:\n",
        "  X_train, Y_train = pickle.load(f)\n"
      ]
    },
    {
      "cell_type": "markdown",
      "source": [
        "Создаем класс датасета и разделяем данные на тестовые и тренировочные. Создаем так же загрузчики данных.\n",
        "\n",
        "---\n",
        "\n"
      ],
      "metadata": {
        "id": "PiF3ambuFktI"
      }
    },
    {
      "cell_type": "code",
      "source": [
        "class HistologyDataset(Dataset):\n",
        "    def __init__(self, tensors, labels):\n",
        "        self.tensors = tensors\n",
        "        self.labels = labels\n",
        "\n",
        "    def __getitem__(self, idx):\n",
        "        return self.tensors[idx], self.labels[idx]\n",
        "\n",
        "    def __len__(self):\n",
        "        return len(self.labels)\n",
        "\n",
        "X_train, X_test, y_train, y_test = train_test_split(X_train, Y_train, test_size=0.2, random_state=42)\n",
        "\n",
        "train_dataset = HistologyDataset(X_train, y_train)\n",
        "test_dataset = HistologyDataset(X_test, y_test)\n",
        "\n",
        "batch_size = 64\n",
        "train_loader = DataLoader(train_dataset, batch_size=batch_size, shuffle=True)\n",
        "test_loader = DataLoader(test_dataset, batch_size=batch_size, shuffle=True)\n"
      ],
      "metadata": {
        "id": "SV57LjD4Fxwe"
      },
      "execution_count": null,
      "outputs": []
    },
    {
      "cell_type": "markdown",
      "source": [
        "Определяем архитектуру модели"
      ],
      "metadata": {
        "id": "EhJXTpwrGN3-"
      }
    },
    {
      "cell_type": "code",
      "source": [
        "class SimpleCNN(nn.Module):\n",
        "    def __init__(self):\n",
        "        super(SimpleCNN, self).__init__()\n",
        "        self.conv1 = nn.Conv2d(3, 16, kernel_size=3, stride=1, padding=1)\n",
        "        self.pool1 = nn.MaxPool2d(kernel_size=2)\n",
        "        self.conv2 = nn.Conv2d(16, 32, kernel_size=3, stride=1, padding=1)\n",
        "        self.pool2 = nn.MaxPool2d(kernel_size=2)\n",
        "        self.fc1 = nn.Linear(32 * 16 * 16, 128)\n",
        "        self.fc2 = nn.Linear(128, 2)\n",
        "\n",
        "    def forward(self, x):\n",
        "        x = self.conv1(x)\n",
        "        x = nn.ReLU()(x)\n",
        "        x = self.pool1(x)\n",
        "        x = self.conv2(x)\n",
        "        x = nn.ReLU()(x)\n",
        "        x = self.pool2(x)\n",
        "        x = x.view(-1, 32 * 16 * 16)\n",
        "        x = self.fc1(x)\n",
        "        x = nn.ReLU()(x)\n",
        "        x = self.fc2(x)\n",
        "        return x"
      ],
      "metadata": {
        "id": "wR5HnwacGRuu"
      },
      "execution_count": null,
      "outputs": []
    },
    {
      "cell_type": "markdown",
      "source": [
        "Создаем экземпляр модели"
      ],
      "metadata": {
        "id": "peawWFDYGXUO"
      }
    },
    {
      "cell_type": "code",
      "source": [
        "model = SimpleCNN()\n"
      ],
      "metadata": {
        "id": "P-ulsbnBGeBM"
      },
      "execution_count": null,
      "outputs": []
    },
    {
      "cell_type": "markdown",
      "source": [
        "Определяем функцию потерь и оптимизатор"
      ],
      "metadata": {
        "id": "yYOIRq41GtnN"
      }
    },
    {
      "cell_type": "code",
      "source": [
        "criterion = nn.CrossEntropyLoss()\n",
        "optimizer = torch.optim.Adam(model.parameters(), lr=0.001)"
      ],
      "metadata": {
        "id": "N3tUOt1qzYaZ"
      },
      "execution_count": null,
      "outputs": []
    },
    {
      "cell_type": "markdown",
      "source": [
        "Функии для обучения и оценки точности модели"
      ],
      "metadata": {
        "id": "dPiKEDXMG2KN"
      }
    },
    {
      "cell_type": "code",
      "source": [
        "def train(model, train_loader, criterion, optimizer, device):\n",
        "    model.train()\n",
        "    running_loss = 0.0\n",
        "    for i, data in enumerate(train_loader, 0):\n",
        "        inputs, labels = data\n",
        "        inputs, labels = inputs.to(device), labels.to(device)\n",
        "        optimizer.zero_grad()\n",
        "        outputs = model(inputs)\n",
        "        loss = criterion(outputs, labels)\n",
        "        loss.backward()\n",
        "        optimizer.step()\n",
        "        running_loss += loss.item()\n",
        "    return running_loss / len(train_loader)\n",
        "\n",
        "def evaluate(model, test_loader, criterion, device):\n",
        "    model.eval()\n",
        "    running_loss = 0.0\n",
        "    correct = 0\n",
        "    total = 0\n",
        "    with torch.no_grad():\n",
        "        for data in test_loader:\n",
        "            images, labels = data\n",
        "            images, labels = images.to(device), labels.to(device)\n",
        "            outputs = model(images)\n",
        "            loss = criterion(outputs, labels)\n",
        "            running_loss += loss.item()\n",
        "            _, predicted = torch.max(outputs.data, 1)\n",
        "            total += labels.size(0)\n",
        "            correct += (predicted == labels).sum().item()\n",
        "    accuracy = 100 * correct / total\n",
        "    return running_loss / len(test_loader), accuracy"
      ],
      "metadata": {
        "id": "p-qvCZAtrl_y"
      },
      "execution_count": null,
      "outputs": []
    },
    {
      "cell_type": "markdown",
      "source": [
        "Обучим модель "
      ],
      "metadata": {
        "id": "ibNzgQoVHBeq"
      }
    },
    {
      "cell_type": "code",
      "source": [
        "num_epochs = 10\n",
        "lr = 0.001\n",
        "criterion = nn.CrossEntropyLoss()\n",
        "optimizer = optim.Adam(model.parameters(), lr=lr)\n",
        "device = torch.device(\"cuda:0\" if torch.cuda.is_available() else \"cpu\")\n",
        "\n",
        "train_losses, test_losses, accuracies = [], [], []\n",
        "for epoch in range(num_epochs):\n",
        "    train_loss = train(model, train_loader, criterion, optimizer, device)\n",
        "    test_loss, accuracy = evaluate(model, test_loader, criterion, device)\n",
        "    train_losses.append(train_loss)\n",
        "    test_losses.append(test_loss)\n",
        "    accuracies.append(accuracy)\n",
        "    print(f\"Epoch {epoch + 1} Train Loss: {train_loss:.4f} Test Loss: {test_loss:.4f} Accuracy: {accuracy:.2f}%\")\n"
      ],
      "metadata": {
        "colab": {
          "base_uri": "https://localhost:8080/"
        },
        "id": "KsPGxDaIHB0e",
        "outputId": "085513e5-00b7-4e93-be88-fbb74ebb625e"
      },
      "execution_count": null,
      "outputs": [
        {
          "output_type": "stream",
          "name": "stdout",
          "text": [
            "Epoch 1 Train Loss: 0.6101 Test Loss: 0.5156 Accuracy: 74.05%\n",
            "Epoch 2 Train Loss: 0.5133 Test Loss: 0.5069 Accuracy: 76.70%\n",
            "Epoch 3 Train Loss: 0.4938 Test Loss: 0.4778 Accuracy: 76.95%\n",
            "Epoch 4 Train Loss: 0.4934 Test Loss: 0.4804 Accuracy: 77.30%\n",
            "Epoch 5 Train Loss: 0.4751 Test Loss: 0.4529 Accuracy: 79.40%\n",
            "Epoch 6 Train Loss: 0.4626 Test Loss: 0.4766 Accuracy: 78.60%\n",
            "Epoch 7 Train Loss: 0.4493 Test Loss: 0.4413 Accuracy: 79.65%\n",
            "Epoch 8 Train Loss: 0.4230 Test Loss: 0.4384 Accuracy: 79.50%\n",
            "Epoch 9 Train Loss: 0.3973 Test Loss: 0.4444 Accuracy: 79.50%\n",
            "Epoch 10 Train Loss: 0.3685 Test Loss: 0.4328 Accuracy: 80.55%\n"
          ]
        }
      ]
    },
    {
      "cell_type": "markdown",
      "source": [
        "Загружаем матицу весов в файл, для дальнейшего использования в телеграмм-боте. "
      ],
      "metadata": {
        "id": "821jqHOgGjzt"
      }
    },
    {
      "cell_type": "code",
      "source": [
        "weight = model.state_dict()\n",
        "torch.save(weight, 'weight.pth')"
      ],
      "metadata": {
        "id": "axJ7ChbKGhXJ"
      },
      "execution_count": null,
      "outputs": []
    },
    {
      "cell_type": "markdown",
      "source": [
        "Оценим качество обучения на тестовых данных"
      ],
      "metadata": {
        "id": "KU8h3TN1HIel"
      }
    },
    {
      "cell_type": "code",
      "source": [
        "test_loss, accuracy = evaluate(model, test_loader, criterion, device)\n",
        "print(f\"Final Test Loss: {test_loss:.4f} Final Accuracy: {accuracy:.2f}%\")"
      ],
      "metadata": {
        "colab": {
          "base_uri": "https://localhost:8080/"
        },
        "id": "HbjUekb5HOoA",
        "outputId": "100e02c8-2a04-4393-c91d-39d3634bce94"
      },
      "execution_count": null,
      "outputs": [
        {
          "output_type": "stream",
          "name": "stdout",
          "text": [
            "Final Test Loss: 0.4279 Final Accuracy: 80.55%\n"
          ]
        }
      ]
    }
  ]
}